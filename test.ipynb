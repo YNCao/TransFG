{
 "cells": [
  {
   "cell_type": "code",
   "execution_count": 1,
   "id": "9a01d91c-3988-4170-8672-112031895dd1",
   "metadata": {},
   "outputs": [],
   "source": [
    "import os\n",
    "import numpy as np\n",
    "import torch\n",
    "import matplotlib.pyplot as plt\n",
    "\n",
    "import test\n",
    "from utils.data_utils import get_loader\n",
    "# from models_swin.ms_swin_transformer import *\n",
    "from models_swin.swin_transformer import *\n",
    "import models_swin.ms_backup as ms_b\n",
    "\n",
    "import matplotlib.pyplot as plt\n",
    "# from visual import featuremap\n",
    "import visual\n",
    "import timm\n"
   ]
  },
  {
   "cell_type": "code",
   "execution_count": 2,
   "id": "69c30d64-d386-4cd6-979f-6c1082ef9e76",
   "metadata": {},
   "outputs": [],
   "source": [
    "os.environ[\"CUDA_VISIBLE_DEVICES\"]=\"0\"\n",
    "\n",
    "args=test.parse_option()"
   ]
  },
  {
   "cell_type": "code",
   "execution_count": null,
   "id": "58245bc4-495a-43e9-ab77-5f2ea9be2bc5",
   "metadata": {},
   "outputs": [],
   "source": [
    "# data\n",
    "_, test_loader = get_loader(args)\n",
    "# train_list = list(enumerate(train_loader))\n",
    "test_list = list(enumerate(test_loader))\n",
    "\n",
    "# for i in range(0,3):\n",
    "img, label = next(iter(test_loader))\n",
    "\n",
    "plt.imshow(img[0,:].permute(1,2,0).detach().cpu().numpy())\n",
    "# plt.imshow(test_loader.dataset.test_img[0])"
   ]
  },
  {
   "cell_type": "code",
   "execution_count": 4,
   "id": "b93d3846-7131-4e6f-b5a6-9a413b70b372",
   "metadata": {
    "tags": []
   },
   "outputs": [],
   "source": [
    "# model\n",
    "model_ckpt = torch.load('output/sample_run_swin_t_no_checkpoint.bin')\n",
    "# model_ckpt = torch.load('output/ms_sample_run_swin_t_no_check_checkpoint.bin')\n",
    "# model=MSSwinTransformer(img_size=448, num_classes=200, num_feature_layers=1, detail_features=True)\n",
    "model=SwinTransformer(img_size=448, num_classes=200)\n",
    "# model=ms_b.MSSwinTransformer(img_size=448, num_classes=200)\n",
    "model.load_state_dict(model_ckpt['model'], strict=False)\n",
    "model.eval()\n",
    "# x=torch.randn((16,3,448,448))\n",
    "x = test_list[0][1][0]\n",
    "f, w = model.forward_features(x)\n",
    "# logits=model(x)\n",
    "# f.shape"
   ]
  },
  {
   "cell_type": "code",
   "execution_count": null,
   "id": "f5de0940-01be-4d44-abee-92aaaab52bc3",
   "metadata": {},
   "outputs": [],
   "source": [
    "# multi-layer feature map\n",
    "layers = [2, 2, 6, 2]\n",
    "lf = model.layer_features\n",
    "for i in range(len(layers)):\n",
    "    for j in range(layers[i]):\n",
    "        stage = i\n",
    "        block = j\n",
    "        edge=6\n",
    "        corr,f = visual.featuremap(lf[stage][block], num_batch=0, edge=edge, start_ch=0)\n",
    "\n",
    "        plt.figure()\n",
    "        plt.suptitle('stage={0},block={1}'.format(stage, block), fontsize=14)\n",
    "        plt.subplot(1, 2, 1)\n",
    "        plt.imshow(corr)    \n",
    "        plt.title(\"channel correlation\")\n",
    "        plt.subplot(1, 2, 2)\n",
    "        plt.imshow(f)\n",
    "        plt.title(\"feature map\")\n",
    "        # plt.colorbar()\n",
    "#         plt.savefig('./visual/stage={0}_block={1}_edge{2}.png'.format(stage,block,edge),dpi=300)\n",
    "        plt.show()                                    "
   ]
  },
  {
   "cell_type": "code",
   "execution_count": null,
   "id": "de46957d-f430-4f0c-91c0-b8f4f7c32fd4",
   "metadata": {},
   "outputs": [],
   "source": [
    "s=3\n",
    "b=-1\n",
    "plt.imshow(lf[s][b].mean(2).view(-1,int(112/2**s),int(112/2**s)).detach()[5,:,:])\n",
    "lf[3][1].shape\n",
    "plt.colorbar()"
   ]
  },
  {
   "cell_type": "code",
   "execution_count": null,
   "id": "f3c79376-adf2-4661-be5d-a19262f6b434",
   "metadata": {},
   "outputs": [],
   "source": [
    "## logits\n",
    "# s=torch.nn.Sigmoid()(logits)\n",
    "# sd=s.detach()\n",
    "# plt.plot(sd[1,:])\n",
    "plt.plot(logits[2,:].detach())\n",
    "print(torch.argmax(logits[2,:]))"
   ]
  },
  {
   "cell_type": "code",
   "execution_count": 122,
   "id": "45fb8c6b-dd5b-4802-a9da-8d6d6eff2b9a",
   "metadata": {},
   "outputs": [],
   "source": [
    "tl=iter(test_loader)"
   ]
  },
  {
   "cell_type": "code",
   "execution_count": 6,
   "id": "afd346ae-81d1-4da4-b594-6983e478d06f",
   "metadata": {},
   "outputs": [],
   "source": [
    "test_model = timm.create_model('swin_tiny_patch4_window7_224', pretrained=True)"
   ]
  },
  {
   "cell_type": "code",
   "execution_count": 16,
   "id": "c995bcae-3f1d-4fac-8c07-750c75bc49f7",
   "metadata": {},
   "outputs": [],
   "source": [
    "# CAM\n",
    "\n",
    "from pytorch_grad_cam import GradCAM, \\\n",
    "                             ScoreCAM, \\\n",
    "                             GradCAMPlusPlus, \\\n",
    "                             AblationCAM, \\\n",
    "                             XGradCAM, \\\n",
    "                             EigenCAM, \\\n",
    "                             EigenGradCAM\n",
    "\n",
    "from pytorch_grad_cam import GuidedBackpropReLUModel\n",
    "from pytorch_grad_cam.utils.image import show_cam_on_image, \\\n",
    "                                         deprocess_image, \\\n",
    "                                         preprocess_image\n",
    "\n"
   ]
  },
  {
   "cell_type": "code",
   "execution_count": null,
   "id": "7c948152-2b1c-407c-bd1c-1ea4239bb490",
   "metadata": {},
   "outputs": [],
   "source": [
    "plt.imshow(img[0,:].permute(1,2,0).detach().cpu().numpy())"
   ]
  },
  {
   "cell_type": "code",
   "execution_count": 12,
   "id": "2df31768-04b2-44b0-b4b2-ea34fcaab5c4",
   "metadata": {},
   "outputs": [
    {
     "data": {
      "text/plain": [
       "torch.Size([2048, 3, 49, 49])"
      ]
     },
     "execution_count": 12,
     "metadata": {},
     "output_type": "execute_result"
    }
   ],
   "source": []
  },
  {
   "cell_type": "code",
   "execution_count": 16,
   "id": "6882ed42-b56e-4910-aa04-cc76e6ee307d",
   "metadata": {},
   "outputs": [
    {
     "data": {
      "text/plain": [
       "'models_swin/ms_backup.py'"
      ]
     },
     "execution_count": 16,
     "metadata": {},
     "output_type": "execute_result"
    }
   ],
   "source": [
    "os.path.join('models_swin/', 'ms_backup.py')"
   ]
  },
  {
   "cell_type": "code",
   "execution_count": 5,
   "id": "02022e3c-e3d7-4dfc-94f6-7adbcf5b3c5e",
   "metadata": {},
   "outputs": [],
   "source": [
    "# confusion matrix\n",
    "test_loader.dataset[32][1]\n",
    "labels=[test_loader.dataset[i][1] for i in range(len(test_loader.dataset))]"
   ]
  },
  {
   "cell_type": "code",
   "execution_count": 168,
   "id": "b141c340-80f7-4686-9958-d5e59e3013b8",
   "metadata": {},
   "outputs": [],
   "source": []
  },
  {
   "cell_type": "code",
   "execution_count": 177,
   "id": "e45b9e87-8c3a-461f-8d5c-694b689bfcd2",
   "metadata": {},
   "outputs": [],
   "source": []
  },
  {
   "cell_type": "code",
   "execution_count": 6,
   "id": "23902e9a-c18f-467f-906e-55bd4c73b8a2",
   "metadata": {},
   "outputs": [
    {
     "data": {
      "image/png": "[encoded data removed]",
      "text/plain": [
       "<Figure size 1800x1200 with 2 Axes>"
      ]
     },
     "metadata": {
      "needs_background": "light"
     },
     "output_type": "display_data"
    }
   ],
   "source": [
    "# confusion matrix\n",
    "pred = np.load('confusion_base.npy')\n",
    "conf = np.zeros((200,200))\n",
    "err = []\n",
    "for n, i in enumerate(labels):\n",
    "    j = np.argmax(pred[n])\n",
    "    if j != i:\n",
    "        err.append([n,i,j])\n",
    "    conf[i][j]+=1\n",
    "    \n",
    "plt.figure(dpi=300)\n",
    "plt.imshow((conf.T/conf.sum(1)).T)\n",
    "plt.colorbar()\n",
    "plt.title('confusion matrix(swin_base)')\n",
    "plt.xlabel('pred')\n",
    "plt.ylabel('label')\n",
    "plt.savefig('confusion_matrix_base.png',dpi=300)\n",
    "plt.show()"
   ]
  },
  {
   "cell_type": "code",
   "execution_count": 180,
   "id": "13ad8327-5957-4d73-88f9-bb5a20a0881d",
   "metadata": {},
   "outputs": [
    {
     "data": {
      "text/plain": [
       "0.897134967207456"
      ]
     },
     "execution_count": 180,
     "metadata": {},
     "output_type": "execute_result"
    }
   ],
   "source": [
    "conf.trace()/conf.sum()"
   ]
  },
  {
   "cell_type": "code",
   "execution_count": null,
   "id": "e83b9d57-bd10-4f11-be2f-6e08b4cbc704",
   "metadata": {},
   "outputs": [],
   "source": [
    "s=3\n",
    "H = int(112/2**s)\n",
    "plt.figure()\n",
    "for b in range(2):\n",
    "    plt.subplot(2,1,b+1)\n",
    "    feature=lf[s][b]\n",
    "    feature=feature.mean(2).squeeze()\n",
    "    vv=feature.view(8,H,H)\n",
    "    plt.imshow(vv[7])\n",
    "    plt.colorbar()"
   ]
  },
  {
   "cell_type": "code",
   "execution_count": null,
   "id": "ef587e6c-8e5a-454b-b722-206997ab28df",
   "metadata": {},
   "outputs": [],
   "source": [
    "feature=lf[2][1]\n",
    "feature=feature.mean(2).squeeze()\n",
    "vv=feature.view(8,28,28)\n",
    "plt.imshow(vv[7])\n",
    "plt.colorbar()"
   ]
  },
  {
   "cell_type": "code",
   "execution_count": 7,
   "id": "ea70e263-e5c8-4bd9-abe8-a7557a87ade2",
   "metadata": {},
   "outputs": [],
   "source": [
    "path = './cam/'\n",
    "path_err = './cam_err'\n",
    "\n",
    "class_list = [i for i in os.listdir(path) if not 'ipynb_checkpoints' in i]\n",
    "class_list.sort()\n",
    "img_list=[]\n",
    "for i in range(len(class_list)):\n",
    "    tmp = [i for i in os.listdir(os.path.join(path,class_list[i])) if not 'ipynb_checkpoints' in i]\n",
    "    tmp.sort()\n",
    "    tmp_path = [os.path.join(class_list[i],j) for j in tmp]\n",
    "    img_list = img_list+tmp_path\n",
    "\n",
    "if not os.path.exists(path_err):\n",
    "    os.makedirs(path_err)\n",
    "    \n",
    "img_err = []\n",
    "for i in err:\n",
    "    num = i[0]\n",
    "    img_err_path = img_list[num]\n",
    "    img_err.append(img_err_path)\n",
    "    if not os.path.exists(os.path.join(path_err, os.path.split(img_err_path)[0])):\n",
    "        os.makedirs(os.path.join(path_err, os.path.split(img_err_path)[0]))\n",
    "    os.system('cp ' + os.path.join(path, img_list[num]) + ' ' +os.path.join(path_err, img_list[num]))\n",
    "    "
   ]
  },
  {
   "cell_type": "code",
   "execution_count": 21,
   "id": "bc6a2974-6eb5-48f8-8001-1825b7002729",
   "metadata": {},
   "outputs": [
    {
     "data": {
      "text/plain": [
       "tensor(1.0755, grad_fn=<SumBackward0>)"
      ]
     },
     "execution_count": 21,
     "metadata": {},
     "output_type": "execute_result"
    }
   ],
   "source": [
    "path = './cam/'\n",
    "path_err = './cam_err'\n"
   ]
  },
  {
   "cell_type": "code",
   "execution_count": 30,
   "id": "59a8785e-5ce2-4d46-98ff-7fe24f56d51d",
   "metadata": {},
   "outputs": [
    {
     "ename": "AttributeError",
     "evalue": "'list' object has no attribute 'flatten'",
     "output_type": "error",
     "traceback": [
      "\u001b[0;31m---------------------------------------------------------------------------\u001b[0m",
      "\u001b[0;31mAttributeError\u001b[0m                            Traceback (most recent call last)",
      "\u001b[0;32m<ipython-input-30-2ba14d07d7d5>\u001b[0m in \u001b[0;36m<module>\u001b[0;34m\u001b[0m\n\u001b[0;32m----> 1\u001b[0;31m \u001b[0mwf\u001b[0m\u001b[0;34m=\u001b[0m\u001b[0mw\u001b[0m\u001b[0;34m.\u001b[0m\u001b[0mflatten\u001b[0m\u001b[0;34m(\u001b[0m\u001b[0;34m)\u001b[0m\u001b[0;34m\u001b[0m\u001b[0;34m\u001b[0m\u001b[0m\n\u001b[0m",
      "\u001b[0;31mAttributeError\u001b[0m: 'list' object has no attribute 'flatten'"
     ]
    }
   ],
   "source": [
    "wf=w.flatten()"
   ]
  },
  {
   "cell_type": "code",
   "execution_count": 32,
   "id": "d7dca211-8557-44e6-8bb4-93d668602885",
   "metadata": {},
   "outputs": [
    {
     "data": {
      "text/plain": [
       "[1, 2, 4, 1]"
      ]
     },
     "execution_count": 32,
     "metadata": {},
     "output_type": "execute_result"
    }
   ],
   "source": [
    "[]+[1,2]+[4,1]"
   ]
  },
  {
   "cell_type": "code",
   "execution_count": null,
   "id": "857ccf98-03db-4dc4-a622-ef18222b30e7",
   "metadata": {},
   "outputs": [],
   "source": []
  }
 ],
 "metadata": {
  "kernelspec": {
   "display_name": "Python 3",
   "language": "python",
   "name": "python3"
  },
  "language_info": {
   "codemirror_mode": {
    "name": "ipython",
    "version": 3
   },
   "file_extension": ".py",
   "mimetype": "text/x-python",
   "name": "python",
   "nbconvert_exporter": "python",
   "pygments_lexer": "ipython3",
   "version": "3.7.3"
  }
 },
 "nbformat": 4,
 "nbformat_minor": 5
}
